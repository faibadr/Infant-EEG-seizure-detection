{
 "cells": [
  {
   "cell_type": "code",
   "execution_count": 1,
   "id": "1c137d61-5e71-4d41-89d2-602dc803c194",
   "metadata": {},
   "outputs": [
    {
     "name": "stdout",
     "output_type": "stream",
     "text": [
      "WARNING:tensorflow:From C:\\Users\\DELL\\AppData\\Roaming\\Python\\Python311\\site-packages\\keras\\src\\losses.py:2976: The name tf.losses.sparse_softmax_cross_entropy is deprecated. Please use tf.compat.v1.losses.sparse_softmax_cross_entropy instead.\n",
      "\n"
     ]
    }
   ],
   "source": [
    "import pandas as pd\n",
    "from keras.models import Sequential\n",
    "from keras.layers import Conv1D, MaxPooling1D, Flatten, Dense\n",
    "from keras.utils import to_categorical\n",
    "from sklearn.preprocessing import StandardScaler\n",
    "from sklearn.feature_selection import SelectKBest, f_classif\n",
    "from sklearn.ensemble import RandomForestClassifier\n",
    "from sklearn.ensemble import GradientBoostingClassifier\n",
    "from sklearn.metrics import accuracy_score, classification_report\n",
    "from sklearn.model_selection import train_test_split\n",
    "from sklearn.preprocessing import StandardScaler\n",
    "from imblearn.over_sampling import SMOTE\n",
    "import numpy as np\n",
    "from scipy.signal import welch"
   ]
  },
  {
   "cell_type": "code",
   "execution_count": 2,
   "id": "f13fd498-1038-4818-bf9e-76595c9ca2bd",
   "metadata": {},
   "outputs": [],
   "source": [
    "# !pip install imbalanced-learn"
   ]
  },
  {
   "cell_type": "code",
   "execution_count": 2,
   "id": "1720a05a-68f3-46fb-a11a-10b8fe6fd7f9",
   "metadata": {},
   "outputs": [],
   "source": [
    "df = pd.read_csv('filtered_babydf8sec.csv')"
   ]
  },
  {
   "cell_type": "code",
   "execution_count": 3,
   "id": "02bf6e05",
   "metadata": {},
   "outputs": [
    {
     "name": "stdout",
     "output_type": "stream",
     "text": [
      "Number of zeros: 42209\n",
      "Number of ones: 5667\n"
     ]
    }
   ],
   "source": [
    "# Analyzing class distribution\n",
    "zero_count = (df.iloc[:, -1] == 0).sum()\n",
    "one_count = (df.iloc[:, -1] == 1).sum()\n",
    "print(\"Number of zeros:\", zero_count)\n",
    "print(\"Number of ones:\", one_count)"
   ]
  },
  {
   "cell_type": "code",
   "execution_count": 4,
   "id": "5172c526",
   "metadata": {},
   "outputs": [],
   "source": [
    "# Balance the classes by undersampling the majority class\n",
    "df_class_0 = df[df.iloc[:, -1] == 0]\n",
    "df_class_1 = df[df.iloc[:, -1] == 1]\n",
    "df_class_0_balanced = df_class_0.sample(n=one_count, random_state=42) \n",
    "df_balanced = pd.concat([df_class_0_balanced, df_class_1])"
   ]
  },
  {
   "cell_type": "code",
   "execution_count": null,
   "id": "1e60bb19",
   "metadata": {},
   "outputs": [],
   "source": [
    "# Shuffle the balanced DataFrame\n",
    "df_balanced = df_balanced.sample(frac=1, random_state=42).reset_index(drop=True)"
   ]
  },
  {
   "cell_type": "code",
   "execution_count": 5,
   "id": "a0ef7562",
   "metadata": {},
   "outputs": [
    {
     "name": "stdout",
     "output_type": "stream",
     "text": [
      "5376\n",
      "0.0    5667\n",
      "1.0    5667\n",
      "Name: count, dtype: int64\n"
     ]
    }
   ],
   "source": [
    "# Separate features and labels\n",
    "X = df_balanced.iloc[:, :-1]\n",
    "y = df_balanced.iloc[:, -1]\n",
    "# Check new class distribution\n",
    "print(df_balanced.iloc[:, -1].value_counts())"
   ]
  },
  {
   "cell_type": "code",
   "execution_count": 6,
   "id": "1359b0b8",
   "metadata": {},
   "outputs": [],
   "source": [
    "# Scale the features\n",
    "scaler = StandardScaler()\n",
    "X_scaled = scaler.fit_transform(X)\n",
    "X_scaled = X_scaled.reshape(X_scaled.shape[0], X_scaled.shape[1], 1)  "
   ]
  },
  {
   "cell_type": "code",
   "execution_count": 7,
   "id": "18c7fe40",
   "metadata": {},
   "outputs": [],
   "source": [
    "# Encode the labels\n",
    "y_encoded = to_categorical(y)"
   ]
  },
  {
   "cell_type": "code",
   "execution_count": 8,
   "id": "bf82e2e3",
   "metadata": {},
   "outputs": [],
   "source": [
    "# Split the dataset \n",
    "X_train, X_temp, y_train, y_temp = train_test_split(X_scaled, y_encoded, test_size=0.2, random_state=42)\n",
    "X_val, X_test, y_val, y_test = train_test_split(X_temp, y_temp, test_size=0.5, random_state=42)"
   ]
  },
  {
   "cell_type": "code",
   "execution_count": 9,
   "id": "d8664d7b-3741-49be-9fd3-8defb482331e",
   "metadata": {},
   "outputs": [
    {
     "name": "stdout",
     "output_type": "stream",
     "text": [
      "WARNING:tensorflow:From C:\\Users\\DELL\\AppData\\Roaming\\Python\\Python311\\site-packages\\keras\\src\\backend.py:873: The name tf.get_default_graph is deprecated. Please use tf.compat.v1.get_default_graph instead.\n",
      "\n",
      "WARNING:tensorflow:From C:\\Users\\DELL\\AppData\\Roaming\\Python\\Python311\\site-packages\\keras\\src\\backend.py:6642: The name tf.nn.max_pool is deprecated. Please use tf.nn.max_pool2d instead.\n",
      "\n",
      "WARNING:tensorflow:From C:\\Users\\DELL\\AppData\\Roaming\\Python\\Python311\\site-packages\\keras\\src\\optimizers\\__init__.py:309: The name tf.train.Optimizer is deprecated. Please use tf.compat.v1.train.Optimizer instead.\n",
      "\n",
      "Epoch 1/30\n",
      "WARNING:tensorflow:From C:\\Users\\DELL\\AppData\\Roaming\\Python\\Python311\\site-packages\\keras\\src\\utils\\tf_utils.py:492: The name tf.ragged.RaggedTensorValue is deprecated. Please use tf.compat.v1.ragged.RaggedTensorValue instead.\n",
      "\n",
      "WARNING:tensorflow:From C:\\Users\\DELL\\AppData\\Roaming\\Python\\Python311\\site-packages\\keras\\src\\engine\\base_layer_utils.py:384: The name tf.executing_eagerly_outside_functions is deprecated. Please use tf.compat.v1.executing_eagerly_outside_functions instead.\n",
      "\n",
      "284/284 [==============================] - 131s 450ms/step - loss: 0.8533 - accuracy: 0.5569 - val_loss: 0.6562 - val_accuracy: 0.6337\n",
      "Epoch 2/30\n",
      "284/284 [==============================] - 125s 440ms/step - loss: 0.6049 - accuracy: 0.6710 - val_loss: 0.5917 - val_accuracy: 0.7140\n",
      "Epoch 3/30\n",
      "284/284 [==============================] - 127s 448ms/step - loss: 0.5320 - accuracy: 0.7349 - val_loss: 0.5293 - val_accuracy: 0.7511\n",
      "Epoch 4/30\n",
      "284/284 [==============================] - 133s 468ms/step - loss: 0.4749 - accuracy: 0.7768 - val_loss: 0.5248 - val_accuracy: 0.7467\n",
      "Epoch 5/30\n",
      "284/284 [==============================] - 133s 468ms/step - loss: 0.4196 - accuracy: 0.8035 - val_loss: 0.5161 - val_accuracy: 0.7343\n",
      "Epoch 6/30\n",
      "284/284 [==============================] - 134s 473ms/step - loss: 0.3607 - accuracy: 0.8414 - val_loss: 0.4685 - val_accuracy: 0.7582\n",
      "Epoch 7/30\n",
      "284/284 [==============================] - 132s 465ms/step - loss: 0.2931 - accuracy: 0.8728 - val_loss: 0.4420 - val_accuracy: 0.7970\n",
      "Epoch 8/30\n",
      "284/284 [==============================] - 132s 465ms/step - loss: 0.2235 - accuracy: 0.9064 - val_loss: 0.4668 - val_accuracy: 0.7838\n",
      "Epoch 9/30\n",
      "284/284 [==============================] - 131s 461ms/step - loss: 0.1732 - accuracy: 0.9305 - val_loss: 0.5129 - val_accuracy: 0.7952\n",
      "Epoch 10/30\n",
      "284/284 [==============================] - 118s 415ms/step - loss: 0.1279 - accuracy: 0.9514 - val_loss: 0.5170 - val_accuracy: 0.8014\n",
      "Epoch 11/30\n",
      "284/284 [==============================] - 121s 427ms/step - loss: 0.1031 - accuracy: 0.9615 - val_loss: 0.5338 - val_accuracy: 0.8032\n",
      "Epoch 12/30\n",
      "284/284 [==============================] - 122s 429ms/step - loss: 0.0753 - accuracy: 0.9717 - val_loss: 0.6057 - val_accuracy: 0.8102\n",
      "Epoch 13/30\n",
      "284/284 [==============================] - 119s 419ms/step - loss: 0.0759 - accuracy: 0.9708 - val_loss: 0.5782 - val_accuracy: 0.8217\n",
      "Epoch 14/30\n",
      "284/284 [==============================] - 122s 428ms/step - loss: 0.0643 - accuracy: 0.9767 - val_loss: 0.6361 - val_accuracy: 0.8023\n",
      "Epoch 15/30\n",
      "284/284 [==============================] - 126s 443ms/step - loss: 0.0537 - accuracy: 0.9809 - val_loss: 0.6474 - val_accuracy: 0.8094\n",
      "Epoch 16/30\n",
      "284/284 [==============================] - 127s 448ms/step - loss: 0.0482 - accuracy: 0.9828 - val_loss: 0.6885 - val_accuracy: 0.7961\n",
      "Epoch 17/30\n",
      "284/284 [==============================] - 123s 433ms/step - loss: 0.0392 - accuracy: 0.9863 - val_loss: 0.6699 - val_accuracy: 0.7996\n",
      "Epoch 18/30\n",
      "284/284 [==============================] - 119s 419ms/step - loss: 0.0412 - accuracy: 0.9859 - val_loss: 0.7020 - val_accuracy: 0.8244\n",
      "Epoch 19/30\n",
      "284/284 [==============================] - 121s 427ms/step - loss: 0.0349 - accuracy: 0.9880 - val_loss: 0.6936 - val_accuracy: 0.8041\n",
      "Epoch 20/30\n",
      "284/284 [==============================] - 121s 424ms/step - loss: 0.0346 - accuracy: 0.9892 - val_loss: 0.7404 - val_accuracy: 0.8182\n",
      "Epoch 21/30\n",
      "284/284 [==============================] - 114s 402ms/step - loss: 0.0330 - accuracy: 0.9896 - val_loss: 0.6895 - val_accuracy: 0.8041\n",
      "Epoch 22/30\n",
      "284/284 [==============================] - 112s 396ms/step - loss: 0.0394 - accuracy: 0.9860 - val_loss: 0.7715 - val_accuracy: 0.8023\n",
      "Epoch 23/30\n",
      "284/284 [==============================] - 114s 400ms/step - loss: 0.0281 - accuracy: 0.9895 - val_loss: 0.8547 - val_accuracy: 0.8005\n",
      "Epoch 24/30\n",
      "284/284 [==============================] - 116s 408ms/step - loss: 0.0300 - accuracy: 0.9900 - val_loss: 0.7275 - val_accuracy: 0.7979\n",
      "Epoch 25/30\n",
      "284/284 [==============================] - 118s 417ms/step - loss: 0.0233 - accuracy: 0.9924 - val_loss: 0.8598 - val_accuracy: 0.7926\n",
      "Epoch 26/30\n",
      "284/284 [==============================] - 126s 445ms/step - loss: 0.0230 - accuracy: 0.9922 - val_loss: 0.7776 - val_accuracy: 0.8235\n",
      "Epoch 27/30\n",
      "284/284 [==============================] - 118s 417ms/step - loss: 0.0216 - accuracy: 0.9932 - val_loss: 0.7529 - val_accuracy: 0.8235\n",
      "Epoch 28/30\n",
      "284/284 [==============================] - 115s 405ms/step - loss: 0.0194 - accuracy: 0.9945 - val_loss: 0.8811 - val_accuracy: 0.8129\n",
      "Epoch 29/30\n",
      "284/284 [==============================] - 115s 406ms/step - loss: 0.0230 - accuracy: 0.9923 - val_loss: 0.7604 - val_accuracy: 0.8226\n",
      "Epoch 30/30\n",
      "284/284 [==============================] - 119s 420ms/step - loss: 0.0301 - accuracy: 0.9901 - val_loss: 0.7497 - val_accuracy: 0.8155\n"
     ]
    }
   ],
   "source": [
    "from tensorflow.keras.models import Sequential\n",
    "from tensorflow.keras.layers import Conv1D, MaxPooling1D, Dropout, Flatten, Dense\n",
    "from tensorflow.keras.utils import to_categorical\n",
    "from tensorflow.keras.optimizers import Adam\n",
    "# Define the model\n",
    "model = Sequential([\n",
    "    Conv1D(64, 3, activation='relu', input_shape=(X_scaled.shape[1], 1)),\n",
    "    MaxPooling1D(2),\n",
    "    Dropout(0.5),\n",
    "    Conv1D(128, 3, activation='relu'),\n",
    "    MaxPooling1D(2),\n",
    "    Dropout(0.5),\n",
    "    Flatten(),\n",
    "    Dense(100, activation='relu'),\n",
    "    Dense(y_encoded.shape[1], activation='softmax')  \n",
    "])\n",
    "\n",
    "# Compile the model\n",
    "model.compile(optimizer='adam', loss='categorical_crossentropy', metrics=['accuracy'])\n",
    "\n",
    "# Train the model\n",
    "history = model.fit(X_train, y_train, epochs=30, validation_data=(X_val, y_val))"
   ]
  },
  {
   "cell_type": "code",
   "execution_count": 10,
   "id": "a64a970c-22b2-4735-a67f-04f9b6abc153",
   "metadata": {},
   "outputs": [
    {
     "name": "stdout",
     "output_type": "stream",
     "text": [
      "Training Accuracy: 99.01%\n",
      "Validation Accuracy: 81.55%\n"
     ]
    }
   ],
   "source": [
    "train_acc = history.history['accuracy'][-1]  \n",
    "val_acc = history.history['val_accuracy'][-1]  \n",
    "print(f\"Training Accuracy: {train_acc * 100:.2f}%\")\n",
    "print(f\"Validation Accuracy: {val_acc * 100:.2f}%\")"
   ]
  },
  {
   "cell_type": "code",
   "execution_count": 11,
   "id": "6c83cae8",
   "metadata": {},
   "outputs": [
    {
     "name": "stdout",
     "output_type": "stream",
     "text": [
      "36/36 [==============================] - 2s 66ms/step - loss: 0.8218 - accuracy: 0.7901\n",
      "Test Accuracy: 79.01%\n"
     ]
    }
   ],
   "source": [
    "# Evaluate the model on the test set\n",
    "loss, accuracy = model.evaluate(X_test, y_test)\n",
    "print(f\"Test Accuracy: {accuracy * 100:.2f}%\")"
   ]
  }
 ],
 "metadata": {
  "kernelspec": {
   "display_name": "Python 3 (ipykernel)",
   "language": "python",
   "name": "python3"
  },
  "language_info": {
   "codemirror_mode": {
    "name": "ipython",
    "version": 3
   },
   "file_extension": ".py",
   "mimetype": "text/x-python",
   "name": "python",
   "nbconvert_exporter": "python",
   "pygments_lexer": "ipython3",
   "version": "3.11.5"
  }
 },
 "nbformat": 4,
 "nbformat_minor": 5
}
